{
 "cells": [
  {
   "cell_type": "markdown",
   "metadata": {},
   "source": [
    "## Imports"
   ]
  },
  {
   "cell_type": "code",
   "execution_count": 4,
   "metadata": {},
   "outputs": [],
   "source": [
    "from tensorflow.keras.layers import Flatten, MaxPooling2D, Dense, Dropout, Conv2D\n",
    "from tensorflow.keras.utils import to_categorical\n",
    "from tensorflow.keras.models import Sequential\n",
    "from tensorflow.keras.datasets import cifar10\n",
    "import numpy as np"
   ]
  },
  {
   "cell_type": "markdown",
   "metadata": {},
   "source": [
    "## Data"
   ]
  },
  {
   "cell_type": "code",
   "execution_count": 19,
   "metadata": {},
   "outputs": [],
   "source": [
    "(X_train,y_train),(X_test,y_test) = cifar10.load_data()\n",
    " \n",
    "X_train = X_train.astype(np.float32)/255\n",
    "x_test = X_test.astype(np.float32)/255\n",
    "\n",
    "y_train = to_categorical(y_train)\n",
    "y_test = to_categorical(y_test)\n",
    "\n"
   ]
  },
  {
   "cell_type": "markdown",
   "metadata": {},
   "source": [
    "## Model"
   ]
  },
  {
   "cell_type": "code",
   "execution_count": 17,
   "metadata": {},
   "outputs": [
    {
     "name": "stdout",
     "output_type": "stream",
     "text": [
      "Epoch 1/10\n",
      "391/391 [==============================] - 28s 71ms/step - loss: 1.5875 - accuracy: 0.4342\n",
      "Epoch 2/10\n",
      "391/391 [==============================] - 30s 76ms/step - loss: 1.1985 - accuracy: 0.5795\n",
      "Epoch 3/10\n",
      "391/391 [==============================] - 28s 72ms/step - loss: 1.0274 - accuracy: 0.6400\n",
      "Epoch 4/10\n",
      "391/391 [==============================] - 28s 72ms/step - loss: 0.9044 - accuracy: 0.6864\n",
      "Epoch 5/10\n",
      "391/391 [==============================] - 28s 71ms/step - loss: 0.8044 - accuracy: 0.7199\n",
      "Epoch 6/10\n",
      "391/391 [==============================] - 28s 71ms/step - loss: 0.7222 - accuracy: 0.7491\n",
      "Epoch 7/10\n",
      "391/391 [==============================] - 28s 73ms/step - loss: 0.6450 - accuracy: 0.7764\n",
      "Epoch 8/10\n",
      "391/391 [==============================] - 29s 75ms/step - loss: 0.5717 - accuracy: 0.8005\n",
      "Epoch 9/10\n",
      "391/391 [==============================] - 29s 75ms/step - loss: 0.5042 - accuracy: 0.8247\n",
      "Epoch 10/10\n",
      "391/391 [==============================] - 29s 75ms/step - loss: 0.4486 - accuracy: 0.8433\n"
     ]
    },
    {
     "data": {
      "text/plain": [
       "<tensorflow.python.keras.callbacks.History at 0x20cb7fb9d90>"
      ]
     },
     "execution_count": 17,
     "metadata": {},
     "output_type": "execute_result"
    }
   ],
   "source": [
    "model = Sequential()\n",
    "model.add(Conv2D(32, kernel_size=(3, 3), input_shape = (32, 32, 3), activation=\"relu\")) #edges recognized\n",
    "model.add(Conv2D(32, kernel_size=(3, 3), activation=\"relu\")) #more complex features recognized\n",
    "\n",
    "model.add(MaxPooling2D(pool_size=(2, 2)))\n",
    "model.add(Dropout(0.25))\n",
    "\n",
    "model.add(Flatten())\n",
    "model.add(Dense(128,activation=\"relu\"))\n",
    "model.add(Dense(10,activation=\"softmax\"))\n",
    "\n",
    "model.compile(optimizer=\"rmsprop\", loss=\"categorical_crossentropy\", metrics=[\"accuracy\"])\n",
    "model.fit(X_train,y_train, batch_size=128, epochs=10, shuffle=True)"
   ]
  },
  {
   "cell_type": "markdown",
   "metadata": {},
   "source": [
    "## Results"
   ]
  },
  {
   "cell_type": "code",
   "execution_count": 21,
   "metadata": {},
   "outputs": [
    {
     "name": "stdout",
     "output_type": "stream",
     "text": [
      "1563/1563 [==============================] - 5s 3ms/step - loss: 0.2848 - accuracy: 0.9126\n",
      "Training Accuracy : 0.9126399755477905\n",
      "313/313 [==============================] - 1s 3ms/step - loss: 263.0528 - accuracy: 0.5369\n",
      "Testing Accuracy : 0.536899983882904\n"
     ]
    }
   ],
   "source": [
    "print(\"Training Accuracy : {0}\".format(model.evaluate(X_train,y_train)[1]))\n",
    "print(\"Testing Accuracy : {0}\".format(model.evaluate(X_test,y_test)[1]))"
   ]
  }
 ],
 "metadata": {
  "kernelspec": {
   "display_name": "Python 3",
   "language": "python",
   "name": "python3"
  },
  "language_info": {
   "codemirror_mode": {
    "name": "ipython",
    "version": 3
   },
   "file_extension": ".py",
   "mimetype": "text/x-python",
   "name": "python",
   "nbconvert_exporter": "python",
   "pygments_lexer": "ipython3",
   "version": "3.8.3"
  }
 },
 "nbformat": 4,
 "nbformat_minor": 4
}
